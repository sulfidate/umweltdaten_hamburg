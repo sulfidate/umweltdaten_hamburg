{
 "cells": [
  {
   "cell_type": "markdown",
   "id": "8925b883",
   "metadata": {},
   "source": [
    "## Luftqualität in Hamburg via AQICN (Air Quality Index)\n",
    "\n",
    "token=5a018480b553ee583496128fe95decf8583e0fae"
   ]
  },
  {
   "cell_type": "code",
   "execution_count": null,
   "id": "3e911004",
   "metadata": {},
   "outputs": [
    {
     "name": "stdout",
     "output_type": "stream",
     "text": [
      "Fehlerhafte API-Antwort für Station hamburg/altona.\n",
      "Fehlerhafte API-Antwort für Station hamburg/blankenese.\n",
      "Fehlerhafte API-Antwort für Station hamburg/sternschanze.\n",
      "Fehlerhafte API-Antwort für Station hamburg/bergedorf.\n",
      "✅ Daten für alle Stationen gespeichert.\n"
     ]
    }
   ],
   "source": [
    "import requests\n",
    "import pandas as pd\n",
    "from datetime import datetime\n",
    "\n",
    "API_TOKEN = \"5a018480b553ee583496128fe95decf8583e0fae\"\n",
    "BASE_API_URL = \"https://api.waqi.info/feed/{station}/?token={token}\"\n",
    "CSV_FILE = \"aqi_hamburg_all_stations.csv\"\n",
    "\n",
    "# Liste der Hamburger Messstationen (Beispiel)\n",
    "stations = [\"\"]\n",
    "\n",
    "def fetch_data_for_all_stations():\n",
    "    all_results = []\n",
    "\n",
    "    for station in stations:\n",
    "        api_url = BASE_API_URL.format(station=station, token=API_TOKEN)\n",
    "        response = requests.get(api_url)\n",
    "        data = response.json()\n",
    "\n",
    "        if data[\"status\"] != \"ok\":\n",
    "            print(f\"Fehlerhafte API-Antwort für Station {station}.\")\n",
    "            continue\n",
    "\n",
    "        d = data[\"data\"]\n",
    "        result = {\n",
    "            \"station\": station,\n",
    "            \"timestamp\": pd.to_datetime(d[\"time\"][\"iso\"]),\n",
    "            \"aqi\": d.get(\"aqi\"),\n",
    "            \"pm25\": d.get(\"iaqi\", {}).get(\"pm25\", {}).get(\"v\"),\n",
    "            \"pm10\": d.get(\"iaqi\", {}).get(\"pm10\", {}).get(\"v\"),\n",
    "            \"no2\": d.get(\"iaqi\", {}).get(\"no2\", {}).get(\"v\"),\n",
    "            \"co\": d.get(\"iaqi\", {}).get(\"co\", {}).get(\"v\"),\n",
    "            \"o3\": d.get(\"iaqi\", {}).get(\"o3\", {}).get(\"v\")\n",
    "        }\n",
    "        all_results.append(result)\n",
    "\n",
    "    df = pd.DataFrame(all_results)\n",
    "    try:\n",
    "        old_df = pd.read_csv(CSV_FILE)\n",
    "        df = pd.concat([old_df, df], ignore_index=True)\n",
    "        df.drop_duplicates(subset=[\"station\", \"timestamp\"], inplace=True)\n",
    "    except FileNotFoundError:\n",
    "        pass\n",
    "\n",
    "    df.to_csv(CSV_FILE, index=False)\n",
    "    print(f\"✅ Daten für alle Stationen gespeichert.\")\n",
    "\n",
    "if __name__ == \"__main__\":\n",
    "    fetch_data_for_all_stations()"
   ]
  }
 ],
 "metadata": {
  "kernelspec": {
   "display_name": "Python 3",
   "language": "python",
   "name": "python3"
  },
  "language_info": {
   "codemirror_mode": {
    "name": "ipython",
    "version": 3
   },
   "file_extension": ".py",
   "mimetype": "text/x-python",
   "name": "python",
   "nbconvert_exporter": "python",
   "pygments_lexer": "ipython3",
   "version": "3.12.9"
  }
 },
 "nbformat": 4,
 "nbformat_minor": 5
}
